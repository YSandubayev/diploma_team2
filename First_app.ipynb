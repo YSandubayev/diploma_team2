{
 "cells": [
  {
   "cell_type": "code",
   "execution_count": 5,
   "id": "c6a3436b",
   "metadata": {},
   "outputs": [],
   "source": [
    "#libraries for getting data from google form\n",
    "import gspread\n",
    "import pandas as pd\n",
    "from oauth2client.service_account import ServiceAccountCredentials\n",
    "\n",
    "#ml\n",
    "from sklearn.model_selection import train_test_split, GridSearchCV\n",
    "from sklearn.preprocessing import StandardScaler\n",
    "from sklearn.pipeline import Pipeline\n",
    "from sklearn.linear_model import LogisticRegression\n",
    "from sklearn.tree import DecisionTreeClassifier\n",
    "from sklearn.ensemble import RandomForestClassifier, GradientBoostingClassifier\n",
    "from sklearn.svm import SVC\n",
    "from sklearn.neural_network import MLPClassifier"
   ]
  },
  {
   "cell_type": "markdown",
   "id": "e10b9e32",
   "metadata": {},
   "source": [
    "getting data from google form"
   ]
  },
  {
   "cell_type": "code",
   "execution_count": null,
   "id": "c040b10e",
   "metadata": {},
   "outputs": [],
   "source": [
    "# Define the scope and credentials to access the Google Sheet\n",
    "scope = ['https://spreadsheets.google.com/feeds', 'https://www.googleapis.com/auth/drive']\n",
    "creds = ServiceAccountCredentials.from_json_keyfile_name('your_credentials_file.json', scope)\n",
    "client = gspread.authorize(creds)"
   ]
  },
  {
   "cell_type": "code",
   "execution_count": null,
   "id": "032364d0",
   "metadata": {},
   "outputs": [],
   "source": [
    "# Open the Google Form responses sheet\n",
    "sheet = client.open('your_google_form_name').sheet1"
   ]
  },
  {
   "cell_type": "code",
   "execution_count": null,
   "id": "8ce26b3e",
   "metadata": {},
   "outputs": [],
   "source": [
    "# Get all the data from the sheet\n",
    "data = sheet.get_all_records()"
   ]
  },
  {
   "cell_type": "code",
   "execution_count": null,
   "id": "e87c9cd8",
   "metadata": {},
   "outputs": [],
   "source": [
    "# Convert the data to a Pandas DataFrame\n",
    "df = pd.DataFrame(data)"
   ]
  },
  {
   "cell_type": "code",
   "execution_count": null,
   "id": "2f7bf5df",
   "metadata": {},
   "outputs": [],
   "source": [
    "# Export the data to a CSV file\n",
    "df.to_csv('google_form_data.csv', index=False)"
   ]
  },
  {
   "cell_type": "markdown",
   "id": "ddf5d873",
   "metadata": {},
   "source": [
    "preprocess"
   ]
  },
  {
   "cell_type": "code",
   "execution_count": null,
   "id": "694a24f2",
   "metadata": {},
   "outputs": [],
   "source": [
    "#duplicates"
   ]
  },
  {
   "cell_type": "code",
   "execution_count": null,
   "id": "a525b469",
   "metadata": {},
   "outputs": [],
   "source": [
    "X = data.drop(['Type', 'Job'], axis=1)\n",
    "y = data['Job']"
   ]
  },
  {
   "cell_type": "code",
   "execution_count": null,
   "id": "5c53d9d3",
   "metadata": {},
   "outputs": [],
   "source": [
    "#null values"
   ]
  },
  {
   "cell_type": "code",
   "execution_count": null,
   "id": "141bc2b8",
   "metadata": {},
   "outputs": [],
   "source": [
    "#formating the columns"
   ]
  },
  {
   "cell_type": "markdown",
   "id": "a5448c1b",
   "metadata": {},
   "source": [
    "visualization"
   ]
  },
  {
   "cell_type": "code",
   "execution_count": null,
   "id": "9a5f6eef",
   "metadata": {},
   "outputs": [],
   "source": [
    "#personality types distribution"
   ]
  },
  {
   "cell_type": "code",
   "execution_count": null,
   "id": "e010e464",
   "metadata": {},
   "outputs": [],
   "source": [
    "#ml"
   ]
  },
  {
   "cell_type": "code",
   "execution_count": null,
   "id": "69ef87dc",
   "metadata": {},
   "outputs": [],
   "source": [
    "X_train, X_test, y_train, y_test = train_test_split(X, y, test_size=0.2, random_state=42)"
   ]
  },
  {
   "cell_type": "code",
   "execution_count": null,
   "id": "1fc53f80",
   "metadata": {},
   "outputs": [],
   "source": [
    "# Define pipelines for each classifier\n",
    "pipelines = {\n",
    "    'Logistic Regression': Pipeline([('scaler', StandardScaler()), ('clf', LogisticRegression())]),\n",
    "    'Decision Tree': Pipeline([('scaler', StandardScaler()), ('clf', DecisionTreeClassifier())]),\n",
    "    'Random Forest': Pipeline([('scaler', StandardScaler()), ('clf', RandomForestClassifier())]),\n",
    "    'Gradient Boosting': Pipeline([('scaler', StandardScaler()), ('clf', GradientBoostingClassifier())]),\n",
    "    'SVM': Pipeline([('scaler', StandardScaler()), ('clf', SVC())]),\n",
    "    'Neural Network': Pipeline([('scaler', StandardScaler()), ('clf', MLPClassifier())])\n",
    "}"
   ]
  },
  {
   "cell_type": "code",
   "execution_count": null,
   "id": "44f2a3cf",
   "metadata": {},
   "outputs": [],
   "source": [
    "hyperparameters = {\n",
    "    'Logistic Regression': {'clf__C': [0.01, 0.1, 1, 10]},\n",
    "    'Decision Tree': {'clf__max_depth': [2, 4, 6, 8]},\n",
    "    'Random Forest': {'clf__n_estimators': [50, 100, 200], 'clf__max_depth': [2, 4, 6, 8]},\n",
    "    'Gradient Boosting': {'clf__n_estimators': [50, 100, 200], 'clf__max_depth': [2, 4, 6, 8]},\n",
    "    'SVM': {'clf__C': [0.01, 0.1, 1, 10], 'clf__kernel': ['linear', 'rbf']},\n",
    "    'Neural Network': {'clf__hidden_layer_sizes': [(10,), (20,), (30,)], 'clf__alpha': [0.0001, 0.001, 0.01]}\n",
    "}"
   ]
  },
  {
   "cell_type": "code",
   "execution_count": null,
   "id": "0b005326",
   "metadata": {},
   "outputs": [],
   "source": [
    "# Perform grid search and train models\n",
    "models = {}\n",
    "for name, pipeline in pipelines.items():\n",
    "    grid_search = GridSearchCV(pipeline, hyperparameters[name], cv=5, n_jobs=-1)\n",
    "    grid_search.fit(X_train, y_train)\n",
    "    models[name] = grid_search.best_estimator_\n",
    "    print(f'{name}: {grid_search.best_score_:.3f} +/- {grid_search.cv_results_[\"std_test_score\"][grid_search.best_index_]:.3f}')"
   ]
  },
  {
   "cell_type": "code",
   "execution_count": null,
   "id": "7c6abddb",
   "metadata": {},
   "outputs": [],
   "source": [
    "# Make predictions on new example\n",
    "def predict_job(personality_traits):\n",
    "    personality_traits = pd.Series(personality_traits).values.reshape(1, -1)\n",
    "    predictions = {}\n",
    "    for name, model in models.items():\n",
    "        predictions[name] = model.predict(personality_traits)[0]\n",
    "    return predictions"
   ]
  }
 ],
 "metadata": {
  "kernelspec": {
   "display_name": "Python 3",
   "language": "python",
   "name": "python3"
  },
  "language_info": {
   "codemirror_mode": {
    "name": "ipython",
    "version": 3
   },
   "file_extension": ".py",
   "mimetype": "text/x-python",
   "name": "python",
   "nbconvert_exporter": "python",
   "pygments_lexer": "ipython3",
   "version": "3.8.8"
  }
 },
 "nbformat": 4,
 "nbformat_minor": 5
}
