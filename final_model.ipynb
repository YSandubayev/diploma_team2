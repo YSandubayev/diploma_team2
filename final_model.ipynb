{
 "cells": [
  {
   "cell_type": "code",
   "execution_count": 1,
   "metadata": {},
   "outputs": [],
   "source": [
    "import pandas as pd\n",
    "pd.set_option('display.max_rows', 100)\n",
    "from sklearn.metrics.pairwise import cosine_similarity\n",
    "from collections import Counter\n"
   ]
  },
  {
   "cell_type": "markdown",
   "metadata": {},
   "source": [
    "## Imports"
   ]
  },
  {
   "cell_type": "code",
   "execution_count": 3,
   "metadata": {},
   "outputs": [],
   "source": [
    "job = pd.read_csv('personality_jobs_done.csv')\n",
    "colors = pd.read_csv('personality_colors.csv')\n",
    "music = pd.read_csv('personality_music_genre.csv')"
   ]
  },
  {
   "cell_type": "markdown",
   "metadata": {},
   "source": [
    "## CLeaning"
   ]
  },
  {
   "cell_type": "code",
   "execution_count": 4,
   "metadata": {},
   "outputs": [],
   "source": [
    "job = job.drop(['firsPercentage','secondPercentage','thirdPercentage','fourthPercentage'],axis=1)\n",
    "\n",
    "#remove (%) from personality_type\n",
    "job.personality_type = job.personality_type.str[:4]\n",
    "job.dropna(subset=['name','personality_type'], inplace=True)\n",
    "for col in job.columns[2:]:\n",
    "    job[col] = job[col].str.replace('%', '')\n",
    "# remove XXXX class\n",
    "job = job[~(job.personality_type == 'XXXX')]\n",
    "# fill na with -1\n",
    "job.fillna(-1, inplace=True)\n",
    "#change object to int8\n",
    "job[job.columns[2:]] = job[job.columns[2:]].astype('int8')\n",
    "\n",
    "job.reset_index(inplace=True)\n",
    "job = job.drop('index',axis=1)"
   ]
  },
  {
   "cell_type": "code",
   "execution_count": 5,
   "metadata": {},
   "outputs": [],
   "source": [
    "colors = colors.drop(['web-scraper-order','web-scraper-start-url','links','links-href','pages',\n",
    "                      'firsPercentage','secondPercentage','thirdPercentage','fourthPercentage',\n",
    "                      'pages-href'],axis=1)\n",
    "\n",
    "#remove (%) from personality_type\n",
    "colors.personality_type = colors.personality_type.str[:4]\n",
    "colors.dropna(subset=['name','personality_type'], inplace=True)\n",
    "for col in colors.columns[2:]:\n",
    "    colors[col] = colors[col].str.replace('%', '')\n",
    "# remove XXXX class\n",
    "colors = colors[~(colors.personality_type == 'XXXX')]\n",
    "# fill na with -1\n",
    "colors.fillna(-1, inplace=True)\n",
    "#change object to int8\n",
    "colors[colors.columns[2:]] = colors[colors.columns[2:]].astype('int8')\n",
    "\n",
    "colors.reset_index(inplace=True)\n",
    "colors = colors.drop('index',axis=1)"
   ]
  },
  {
   "cell_type": "code",
   "execution_count": 6,
   "metadata": {},
   "outputs": [],
   "source": [
    "# clean unused columns\n",
    "music.drop(['web-scraper-order', 'web-scraper-start-url', 'links', 'links-href', 'firsPercentage',\n",
    "                 'secondPercentage', 'thirdPercentage', 'fourthPercentage', 'pages', 'pages-href'], axis=1, inplace=True)\n",
    "\n",
    "music.dropna(subset=['name','personality_type'], inplace=True)\n",
    "#remove (%) from personality_type\n",
    "music.personality_type = music.personality_type.str[:4]\n",
    "# remove % char from architype\n",
    "for col in music.columns[2:]:\n",
    "    music[col] = music[col].str.replace('%', '')\n",
    "# remove XXXX class\n",
    "music = music[~(music.personality_type == 'XXXX')]\n",
    "# fill na with -1\n",
    "music.fillna(-1, inplace=True)\n",
    "#change object to int8\n",
    "music[music.columns[2:]] = music[music.columns[2:]].astype('int8')\n",
    "\n",
    "music.reset_index(inplace=True)\n",
    "music = music.drop('index',axis=1)"
   ]
  },
  {
   "cell_type": "markdown",
   "metadata": {},
   "source": [
    "## Project"
   ]
  },
  {
   "cell_type": "code",
   "execution_count": 11,
   "metadata": {},
   "outputs": [],
   "source": [
    "class Job_recog():\n",
    "   \n",
    "    def __init__(self):\n",
    "        self.job = pd.read_csv('clean_job.csv',index_col=0)\n",
    "        self.music = pd.read_csv('clean_music.csv',index_col=0)\n",
    "        self.colors = pd.read_csv('clean_colors.csv',index_col=0)\n",
    "        \n",
    "        self.color_similarity = cosine_similarity(self.colors[self.colors.columns[2:]])\n",
    "        self.music_similarity = cosine_similarity(self.music[self.music.columns[2:]])\n",
    "        self.job_similarity = cosine_similarity(self.job[self.job.columns[2:]])\n",
    "        \n",
    "        \n",
    "    def find_similarity(self,title,data,q_type, use_col):\n",
    "        colors_id = data[data[use_col] == title].index.values[0]       \n",
    "        score = list(enumerate(q_type[colors_id]))\n",
    "        \n",
    "        sorted_score = sorted(score, key=lambda x:x[1], reverse= True)[1:]\n",
    "        personality_list = []\n",
    "        name_list = []\n",
    "        for i,val in enumerate(sorted_score):\n",
    "            name_list.append(data[data.index == val[0]]['name'].values[0])\n",
    "            personality_list.append(data[data.index == val[0]]['personality_type'].values[0])\n",
    "            if i == 2:\n",
    "                break\n",
    "        return name_list, personality_list\n",
    "    \n",
    "    def run(self,color, music):\n",
    "        # First find color\n",
    "        color_name, color_personality = self.find_similarity(color,self.colors,self.color_similarity,'name')\n",
    "        print('Probably your persobality type is: ',Counter(color_personality).most_common(1)[0][0])\n",
    "        print(f\"Also, we recommend you this colors: {color_name}\\n\")\n",
    "\n",
    "        # Second find music\n",
    "        music_name, music_personality = self.find_similarity(music,self.music,self.music_similarity,'name')\n",
    "        print('Probably your persobality type is: ',Counter(music_personality).most_common(1)[0][0])\n",
    "        print(f\"Also we recommend you this music genre: {music_name}\\n\")\n",
    "        \n",
    "        personalities = Counter(music_personality + color_personality).most_common(2)\n",
    "        \n",
    "        for personality in personalities:\n",
    "            job_name, job_personality = self.find_similarity(personality[0],self.job,self.job_similarity,'personality_type')\n",
    "            print(f'for this type of personality \"{job_personality[0]}\" our job recommendation: {job_name}')\n",
    "        # job_name, job_personality = self.find_similarity(test1,self.job,self.job_similarity,'personality_type')\n",
    "        return 0"
   ]
  },
  {
   "cell_type": "markdown",
   "metadata": {},
   "source": [
    "## Results"
   ]
  },
  {
   "cell_type": "code",
   "execution_count": 12,
   "metadata": {},
   "outputs": [
    {
     "name": "stdout",
     "output_type": "stream",
     "text": [
      "Probably your persobality type is:  INTJ\n",
      "Also, we recommend you this colors: ['Midnight Blue', 'Shadow', 'Dioxazine']\n",
      "\n",
      "Probably your persobality type is:  INTP\n",
      "Also we recommend you this music genre: ['Black MIDI', 'Electroacoustic music', 'Lowercase']\n",
      "\n",
      "for this type of personality \"INTP\" our job recommendation: ['Audio Engineer', 'Geostationary Satellite Monitor', 'Hacker']\n",
      "for this type of personality \"INTJ\" our job recommendation: ['Film Producer', 'Plague Doctor', 'Neuroscientist']\n"
     ]
    },
    {
     "data": {
      "text/plain": [
       "0"
      ]
     },
     "execution_count": 12,
     "metadata": {},
     "output_type": "execute_result"
    }
   ],
   "source": [
    "test1 = Job_recog()\n",
    "test1.run('Black','Electronicore')"
   ]
  },
  {
   "cell_type": "code",
   "execution_count": null,
   "metadata": {},
   "outputs": [],
   "source": []
  }
 ],
 "metadata": {
  "kernelspec": {
   "display_name": "Python 3",
   "language": "python",
   "name": "python3"
  },
  "language_info": {
   "codemirror_mode": {
    "name": "ipython",
    "version": 3
   },
   "file_extension": ".py",
   "mimetype": "text/x-python",
   "name": "python",
   "nbconvert_exporter": "python",
   "pygments_lexer": "ipython3",
   "version": "3.8.8"
  },
  "vscode": {
   "interpreter": {
    "hash": "74b6de8607359e30325dfb0bc32a324bbdd47b081931538935c190304d7ccb7e"
   }
  }
 },
 "nbformat": 4,
 "nbformat_minor": 2
}
